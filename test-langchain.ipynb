{
 "cells": [
  {
   "cell_type": "code",
   "execution_count": 5,
   "metadata": {},
   "outputs": [],
   "source": [
    "import os\n",
    "from dotenv import load_dotenv\n",
    "\n",
    "load_dotenv()\n",
    "api_key = os.environ['OPENAI_API_KEY']"
   ]
  },
  {
   "cell_type": "code",
   "execution_count": 10,
   "metadata": {},
   "outputs": [],
   "source": [
    "from langchain.llms import OpenAI\n",
    "from langchain.document_loaders import YoutubeLoader"
   ]
  },
  {
   "cell_type": "code",
   "execution_count": 8,
   "metadata": {},
   "outputs": [],
   "source": [
    "llm = OpenAI()"
   ]
  },
  {
   "cell_type": "code",
   "execution_count": 9,
   "metadata": {},
   "outputs": [
    {
     "data": {
      "text/plain": [
       "'\\n\\n-Ethiopia is a country located in the Horn of Africa, bordered by Eritrea, Djibouti, Somalia, Kenya, South Sudan, and Sudan.\\n-It has a population of over 109 million people, making it the second most populous country in Africa.\\n-The official language is Amharic, but there are over 80 languages spoken in the country.\\n-The capital city is Addis Ababa, which also serves as the headquarters for the African Union and the United Nations Economic Commission for Africa.\\n-Ethiopia has a long and rich history, with evidence of human habitation dating back over 3 million years. It is considered the birthplace of coffee.\\n-The country has a diverse landscape, with highlands, lowlands, and the Great Rift Valley.\\n-Ethiopia is one of the oldest Christian nations in the world, with Christianity being the majority religion, followed by Islam and traditional indigenous beliefs.\\n-Ethiopia has faced challenges such as famine, political instability, and poverty, but has made significant progress in recent years in terms of economic growth and development.\\n-The Ethiopian Orthodox Church plays a significant role in the culture and daily life of the people.\\n-Ethiopia is known for its unique cuisine, with dishes such as'"
      ]
     },
     "execution_count": 9,
     "metadata": {},
     "output_type": "execute_result"
    }
   ],
   "source": [
    "llm(\"What do you know about Ethiopia?\")"
   ]
  },
  {
   "cell_type": "code",
   "execution_count": 14,
   "metadata": {},
   "outputs": [],
   "source": [
    "loader = YoutubeLoader.from_youtube_url(\"https://www.youtube.com/watch?v=aPv81UBCNrc\", add_video_info=False)\n",
    "transcript = loader.load()"
   ]
  },
  {
   "cell_type": "code",
   "execution_count": 15,
   "metadata": {},
   "outputs": [
    {
     "data": {
      "text/plain": [
       "[Document(metadata={'source': 'aPv81UBCNrc'}, page_content=\"[Music] [Applause] welcome to fin crime insights my name is John Eric csos I'm director of innovation at Financial crime prevention at T2 every banking in this podcast series we're looking into various aspects of financial crime we're looking at fraud we're looking at at money laundering and we're looking at digital identity in this episode we will talk about money laundering a criminals need to laer money acquired through fraud and with increasing fraud we also see an increase in money laundering and the criminals are getting smarter so we need to improve the way we work to catch money launderers to help me with this I've C huspy who is the product manager of AML and kyc welcome thank you thank you for having me yeah it's it's good to have you here and this this is an important uh topic but could you start by just explaining what what is your role and how long have you been working with with this yes um yes so I work as a product manager in AML kyc H I have been in TI every for L uh yeah a bit over three years and working in the AML field for the past two and a half years right okay so money laundering that's your expertise that's that's what you're working what is it if you should explain that to to to a lay person what would you say money laundering is yeah so uh money laundering is um um uh it's about U making U um profit from any criminal activity uh seems legitimate uh so it's hiding traces from um from profit that comes from um uh from any uh illegal activity uh so for example you have the the primary crime that could be uh drug trafficking uh embezzlement uh fraud uh and the secondary crime it's is money laundering and that is to uh to make the the to have it looks uh look like a source that is from an from a legitimate uh yeah from a legitimate Source right which is of course important if you want to use the money acquired on illegal means right you need to to make it look like it's it's uh money acquired by legal means yeah so if I mean you mentioned the original crime I mean it's we we talk a lot about fraud and and money laundering what's the difference between the two um yeah so uh fraud is about um it's it's it's stealing money basically from uh from someone you yeah so it's like um obtaining money through through thetion and money laundering is to to hide the The Profit you you made from that uh for us that works uh with the with software for both fraud and AML uh in fraud then you have um you want to uh to prevent the the customers you and me from getting frauded by uh by criminals uh and it's um for example if I see some activity on my account that is not done by me I would probably call the bank uh to say hey I have these transactions I don't recognize them can you have a look or the bank contact me and say well we have some suspicious transactions uh is is that you so yeah so you you want to you want to you want to understand right away if a a customer has been frauded or not um in AML it's a bit different uh because uh we can't uh uh the banks uh they can't um let their customers know if they are um being investigated for money laundering so you can't really if you find any suspicious um uh transactions you probably won't call that customer and say hey are you doing money laundering because it's uh then you uh then you help the the criminal hide the hide the traces even faster uh and this is also it's um uh it's in the the laws and regulations as well for for money laundering the the provision of disclosure uh so that is uh something in in Amil they would have to to consider yeah which makes a lot of sense right because you don't want to to tell them that they're being investigated and also as you said for fraud either you or the bank is going to you know say that you know I've lost the money but that's not the case with money Laing right nobody's reporting this money as lost uh no it's not it's if it comes from from fraud maybe you the the person that has been frauded will report it but when you are uh when you are um doing money laundering it's uh uh yeah it's so you probably you want to make it look as uh invisible as possible and just have have the the profit from any uh criminal activity just run through the the bank system smoothly without the without it being H caught right so both of them are about from our perspective detecting some activity but the actions we take are very different yeah yeah correct right so money loing how much money laundering do we stop oh it's uh it's it's a good uh it's a good question U and we don't uh we don't really know uh because U the uh we are we deliver software to to Banks so uh the banks uh uh they are the obliged entity and they are reporting to the authorities of suspicious uh transactions or we can call it events uh any suspicious event they uh they will um they will have to to report to the authorities uh and the the number of suspicious activity reports s um it has increased a lot the the past few years and um and when you are submitting uh AAR uh it's um the banks doesn't always get feedback from the authorities so it's it's a bit um it's a bit hard to know actually how how much uh how much we stop uh but based on the kind of the amount that we or at least the UN for example suspect ects to uh that are the the streams of the of the money laundering it's around maybe 5% of the world's BMP uh so we when we have are working with numbers like that I think yeah we know that we we do stop uh uh we don't stop enough right yeah yeah I mean it's it's a huge amount of of money and it's it's a it's a big uh Challenge and and also you mentioned the banks I mean we're not directly involved that the banks would send report to the financial uh investigation uh Authority but there's a lack of reporting coming back is what you say so it's difficult to know whether we have false positives yeah yeah correct it's uh uh that is um because and also compared to to for example fraud you will get the feedback almost right away yeah an alarm has triggered um er then you will have the feedback right away if this was fraud or not so that makes it also uh uh for uh yeah easier to to tune rules setup scenarios uh uh but for money laundering when you don't have that uh that feedback it's it's harder to to know um yeah it's it's harder uh to to understand that uh yeah right because we don't really have the target picture that we want to set the rules against Etc yeah um but what are the mechanisms we use to identify monitoring um so it's uh uh we it it is of course transaction monitoring so it's yeah monitor uh uh monitor uh customer uh Behavior Uh that is uh kind of the the core of um of um um detecting uh money laundering but it's also uh to to to yeah customer risk rating and the whole uh kyc know your customer process is also a part of that um if we have like the the umbrella term of AML the it's it's quite it's a lot of different mechanism mechanism yeah yeah so the kyc is both about checking the background it's asking uh what's your normal monetary behavior and then monitoring if you follow those rules you set initially right yeah yeah so it's like um uh it's like um uh expected behavior of a customer versus actual Behavior right yeah yeah we we from time to them we get those really irritating questions you know how much you're going to spend and and and so on but I mean it's important to realize this is really important because that's part of the job we're doing to to know this yes and uh yes and I um of course in some working with this I um it's kind of an um um yeah to to to everyone when we have those questions answered from the bank it's uh I know that also it can be um annoying but it's actually helping uh helping the banks uh yeah so it's uh it's it could be a part of our our duty as uh as a a member of the society to to help uh to help the banks with with kind of uh uh questions as well right I think that's a very good way of putting it when we talk to people that do not understand and are not involved you know saying you know trying to explain why you get these annoying questions and you have to fill in this form again and and so on and it's it's part of as you said us as Society trying to fight this together yeah yeah correct so so fighting it uh and you said we don't stop enough we should be stopping more uh how how can we go about how what how what could we put in place to catch more money laundering yeah so it's um of course uh AI it's it will be a part of uh um it will not solve the issue itself but it's a tool to to to be uh to to hopefully catch more um just to uh have some suggestions for uh using for profilings uh profiling and if uh if actual Behavior if that's um um kind of typical for that customer profile or not uh yeah so that's uh that's a part of uh also U yeah to to to have the kind of the the customer risk profiles uh and uh yeah it's um it's also uh quite um um um to to have more data sharing and uh and cooperation between Banks as well uh because uh there is in money laundering it's usually uh maybe a big amount that has come from for example a fraud or um or some or drug sales and they have to be divided into smaller transactions and then you you kind of you are doing multiple transactions just to to make them all almost invisible so with the with um data sharing as well it would be uh then we are uh then we can follow the money uh in a better way that we can uh just uh uh yeah without the data sharing yeah uh and and the the latter thing you mentioned I mean data sharing that that that's an important part of this and we're not doing enough of that are we I mean it would be interesting as you said it's about hiding the trailer money and of course the the the criminals they know what we are doing and they will of course use different banks Etc to to do this but there's a challenge with the cooperation between Banks yeah and uh it's uh it's a it's this um when we are working with the um anti- money laundering it's all always this uh privacy and gdpr um concerns versus the um the rules and regulations for money laundering but yeah data sharing it it it is uh important uh to to follow the kind of where the whole flow of um uh of the transactions and just not what comes into the bank and what goes out so yeah right yeah I mean we really want to follow the the same person or same legal entity across the entire ecosystem that would help a lot um and you mentioned AI which you know is now the bus word and it's going to solve everything right but I mean the challenge I guess is training the AI models yeah because we don't really we don't have a clear as fraud we have a much Clear Target to what we're going to train but AI was struggling with with that yeah we do uh and um yeah we need uh to to train the AI models we the more data we have the more uh can we can we train the the algorithms so we need um uh for yeah for working with AI we we need we need a lot of data to to be able to to see uh to see patterns that would not uh be discovered without the AI so yeah to to have um um enough data is uh is very important right yeah and I mean AI is good at finding patterns and and that sort so yeah I mean and we are working on this and and and implementing this as we speak to to be better at that as well and so what's your vision for the future how how come what will it look in the future how will it improve how can we improve what should we be doing so I I I hope that we that we have a brighter future ahead um so it's you know of course it's to that we catch uh more uh to to make it harder to to to to launder money that's uh uh yeah that it's um very important and also to to have good collaboration between yeah Banks and uh and software suppliers and authorities that would be yeah a huge um I think that is kind of a key to to success in uh in fighting money laundering yeah no very good and you know the latter is what I keep hearing when I talk to people and go to conferences that you know the corporation is sharing of data and the new Financial regulations have are more specific on the the the right and obligations to share the data which hopefully will improve this yeah yeah so very good let's hope we move to a brighter future that we can can catch more of this because this is this is really important it's sort of invisible most people don't really understand what it's about and how important it is but I think we're doing a really important job on this so thank you for sharing your insights it's been great to to have you thanks for having me and to everybody listened thanks for for joining and stay tuned for the next next episode of fin crime insights [Music] [Applause]\")]"
      ]
     },
     "execution_count": 15,
     "metadata": {},
     "output_type": "execute_result"
    }
   ],
   "source": [
    "transcript"
   ]
  },
  {
   "cell_type": "code",
   "execution_count": null,
   "metadata": {},
   "outputs": [],
   "source": []
  }
 ],
 "metadata": {
  "kernelspec": {
   "display_name": "Python 3",
   "language": "python",
   "name": "python3"
  },
  "language_info": {
   "codemirror_mode": {
    "name": "ipython",
    "version": 3
   },
   "file_extension": ".py",
   "mimetype": "text/x-python",
   "name": "python",
   "nbconvert_exporter": "python",
   "pygments_lexer": "ipython3",
   "version": "3.11.9"
  }
 },
 "nbformat": 4,
 "nbformat_minor": 2
}
